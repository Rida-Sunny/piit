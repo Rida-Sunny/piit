{
 "cells": [
  {
   "cell_type": "code",
   "execution_count": null,
   "id": "a7e9707c-0c4b-4779-a9b4-b142a64ec1e4",
   "metadata": {},
   "outputs": [],
   "source": [
    "# Python - Interpreted language - Line by line\n"
   ]
  },
  {
   "cell_type": "code",
   "execution_count": null,
   "id": "63fb50d9-cf2c-4031-a905-ba45c2f5fe3b",
   "metadata": {},
   "outputs": [],
   "source": [
    "# Run a line (execute) - Shift + Enter key"
   ]
  },
  {
   "cell_type": "code",
   "execution_count": 1,
   "id": "8f9f37bc-2950-4fff-9933-e2327c5b8dfd",
   "metadata": {},
   "outputs": [],
   "source": [
    "x = [1,2,3,5] #variable which gets stored in Environment"
   ]
  },
  {
   "cell_type": "code",
   "execution_count": 2,
   "id": "890279fb-6f81-4e74-bdf4-af424d764499",
   "metadata": {},
   "outputs": [
    {
     "data": {
      "text/plain": [
       "[1, 2, 3, 5]"
      ]
     },
     "execution_count": 2,
     "metadata": {},
     "output_type": "execute_result"
    }
   ],
   "source": [
    "x"
   ]
  },
  {
   "cell_type": "code",
   "execution_count": 3,
   "id": "f4e58166-de46-472b-b5cd-5ae9d5b514ac",
   "metadata": {},
   "outputs": [
    {
     "name": "stdout",
     "output_type": "stream",
     "text": [
      "[1, 2, 3, 5]\n"
     ]
    }
   ],
   "source": [
    "print(x)"
   ]
  },
  {
   "cell_type": "code",
   "execution_count": 4,
   "id": "89963281-0180-406b-8da2-de6a276d42fe",
   "metadata": {},
   "outputs": [
    {
     "data": {
      "text/plain": [
       "list"
      ]
     },
     "execution_count": 4,
     "metadata": {},
     "output_type": "execute_result"
    }
   ],
   "source": [
    "type (x)"
   ]
  },
  {
   "cell_type": "code",
   "execution_count": null,
   "id": "50a9962a-d250-4da2-97c3-e8da0085e35a",
   "metadata": {},
   "outputs": [],
   "source": []
  }
 ],
 "metadata": {
  "kernelspec": {
   "display_name": "Python [conda env:base] *",
   "language": "python",
   "name": "conda-base-py"
  },
  "language_info": {
   "codemirror_mode": {
    "name": "ipython",
    "version": 3
   },
   "file_extension": ".py",
   "mimetype": "text/x-python",
   "name": "python",
   "nbconvert_exporter": "python",
   "pygments_lexer": "ipython3",
   "version": "3.13.5"
  }
 },
 "nbformat": 4,
 "nbformat_minor": 5
}
